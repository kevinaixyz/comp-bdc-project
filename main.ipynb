{
 "cells": [
  {
   "cell_type": "code",
   "execution_count": 10,
   "metadata": {},
   "outputs": [],
   "source": [
    "import pandas as pd\n",
    "import numpy as np\n",
    "import matplotlib.pyplot as plt\n",
    "import seaborn as sns\n",
    "import torch\n",
    "import torch.nn as nn\n",
    "import torch.nn.functional as F"
   ]
  },
  {
   "cell_type": "markdown",
   "metadata": {},
   "source": [
    "## Data Wrangling"
   ]
  },
  {
   "cell_type": "code",
   "execution_count": 20,
   "metadata": {},
   "outputs": [
    {
     "data": {
      "text/html": [
       "<div>\n",
       "<style scoped>\n",
       "    .dataframe tbody tr th:only-of-type {\n",
       "        vertical-align: middle;\n",
       "    }\n",
       "\n",
       "    .dataframe tbody tr th {\n",
       "        vertical-align: top;\n",
       "    }\n",
       "\n",
       "    .dataframe thead th {\n",
       "        text-align: right;\n",
       "    }\n",
       "</style>\n",
       "<table border=\"1\" class=\"dataframe\">\n",
       "  <thead>\n",
       "    <tr style=\"text-align: right;\">\n",
       "      <th></th>\n",
       "      <th>CustomerId</th>\n",
       "      <th>Geography</th>\n",
       "      <th>Tenure</th>\n",
       "      <th>Balance</th>\n",
       "      <th>NumOfProducts</th>\n",
       "      <th>HasCrCard</th>\n",
       "      <th>IsActiveMember</th>\n",
       "      <th>EstimatedSalary</th>\n",
       "      <th>Exited</th>\n",
       "      <th>CreditLevel</th>\n",
       "    </tr>\n",
       "  </thead>\n",
       "  <tbody>\n",
       "    <tr>\n",
       "      <th>0</th>\n",
       "      <td>15762418</td>\n",
       "      <td>Spain</td>\n",
       "      <td>3</td>\n",
       "      <td>121681.82</td>\n",
       "      <td>1</td>\n",
       "      <td>1</td>\n",
       "      <td>0</td>\n",
       "      <td>128643.35</td>\n",
       "      <td>1</td>\n",
       "      <td>8</td>\n",
       "    </tr>\n",
       "    <tr>\n",
       "      <th>1</th>\n",
       "      <td>15749905</td>\n",
       "      <td>Spain</td>\n",
       "      <td>6</td>\n",
       "      <td>0.00</td>\n",
       "      <td>1</td>\n",
       "      <td>1</td>\n",
       "      <td>0</td>\n",
       "      <td>50213.81</td>\n",
       "      <td>1</td>\n",
       "      <td>7</td>\n",
       "    </tr>\n",
       "    <tr>\n",
       "      <th>2</th>\n",
       "      <td>15600911</td>\n",
       "      <td>France</td>\n",
       "      <td>2</td>\n",
       "      <td>182888.08</td>\n",
       "      <td>1</td>\n",
       "      <td>1</td>\n",
       "      <td>0</td>\n",
       "      <td>3061.00</td>\n",
       "      <td>0</td>\n",
       "      <td>7</td>\n",
       "    </tr>\n",
       "    <tr>\n",
       "      <th>3</th>\n",
       "      <td>15572762</td>\n",
       "      <td>Germany</td>\n",
       "      <td>2</td>\n",
       "      <td>102278.79</td>\n",
       "      <td>2</td>\n",
       "      <td>1</td>\n",
       "      <td>0</td>\n",
       "      <td>89822.48</td>\n",
       "      <td>0</td>\n",
       "      <td>2</td>\n",
       "    </tr>\n",
       "    <tr>\n",
       "      <th>4</th>\n",
       "      <td>15627848</td>\n",
       "      <td>France</td>\n",
       "      <td>7</td>\n",
       "      <td>109346.13</td>\n",
       "      <td>2</td>\n",
       "      <td>1</td>\n",
       "      <td>0</td>\n",
       "      <td>102665.92</td>\n",
       "      <td>0</td>\n",
       "      <td>7</td>\n",
       "    </tr>\n",
       "  </tbody>\n",
       "</table>\n",
       "</div>"
      ],
      "text/plain": [
       "   CustomerId Geography  Tenure    Balance  NumOfProducts  HasCrCard  \\\n",
       "0    15762418     Spain       3  121681.82              1          1   \n",
       "1    15749905     Spain       6       0.00              1          1   \n",
       "2    15600911    France       2  182888.08              1          1   \n",
       "3    15572762   Germany       2  102278.79              2          1   \n",
       "4    15627848    France       7  109346.13              2          1   \n",
       "\n",
       "   IsActiveMember  EstimatedSalary  Exited  CreditLevel  \n",
       "0               0        128643.35       1            8  \n",
       "1               0         50213.81       1            7  \n",
       "2               0          3061.00       0            7  \n",
       "3               0         89822.48       0            2  \n",
       "4               0        102665.92       0            7  "
      ]
     },
     "execution_count": 20,
     "metadata": {},
     "output_type": "execute_result"
    }
   ],
   "source": [
    "df = pd.read_csv(\"dataset/BankChurners.csv\")\n",
    "df.head()"
   ]
  },
  {
   "cell_type": "code",
   "execution_count": 21,
   "metadata": {},
   "outputs": [
    {
     "name": "stdout",
     "output_type": "stream",
     "text": [
      "<class 'pandas.core.frame.DataFrame'>\n",
      "RangeIndex: 9000 entries, 0 to 8999\n",
      "Data columns (total 10 columns):\n",
      " #   Column           Non-Null Count  Dtype  \n",
      "---  ------           --------------  -----  \n",
      " 0   CustomerId       9000 non-null   int64  \n",
      " 1   Geography        9000 non-null   object \n",
      " 2   Tenure           9000 non-null   int64  \n",
      " 3   Balance          9000 non-null   float64\n",
      " 4   NumOfProducts    9000 non-null   int64  \n",
      " 5   HasCrCard        9000 non-null   int64  \n",
      " 6   IsActiveMember   9000 non-null   int64  \n",
      " 7   EstimatedSalary  9000 non-null   float64\n",
      " 8   Exited           9000 non-null   int64  \n",
      " 9   CreditLevel      9000 non-null   int64  \n",
      "dtypes: float64(2), int64(7), object(1)\n",
      "memory usage: 703.2+ KB\n"
     ]
    }
   ],
   "source": [
    "df.info()"
   ]
  },
  {
   "cell_type": "code",
   "execution_count": 22,
   "metadata": {},
   "outputs": [
    {
     "data": {
      "text/html": [
       "<div>\n",
       "<style scoped>\n",
       "    .dataframe tbody tr th:only-of-type {\n",
       "        vertical-align: middle;\n",
       "    }\n",
       "\n",
       "    .dataframe tbody tr th {\n",
       "        vertical-align: top;\n",
       "    }\n",
       "\n",
       "    .dataframe thead th {\n",
       "        text-align: right;\n",
       "    }\n",
       "</style>\n",
       "<table border=\"1\" class=\"dataframe\">\n",
       "  <thead>\n",
       "    <tr style=\"text-align: right;\">\n",
       "      <th></th>\n",
       "      <th>CustomerId</th>\n",
       "      <th>Tenure</th>\n",
       "      <th>Balance</th>\n",
       "      <th>NumOfProducts</th>\n",
       "      <th>HasCrCard</th>\n",
       "      <th>IsActiveMember</th>\n",
       "      <th>EstimatedSalary</th>\n",
       "      <th>Exited</th>\n",
       "      <th>CreditLevel</th>\n",
       "    </tr>\n",
       "  </thead>\n",
       "  <tbody>\n",
       "    <tr>\n",
       "      <th>count</th>\n",
       "      <td>9.000000e+03</td>\n",
       "      <td>9000.000000</td>\n",
       "      <td>9000.000000</td>\n",
       "      <td>9000.000000</td>\n",
       "      <td>9000.000000</td>\n",
       "      <td>9000.000000</td>\n",
       "      <td>9000.000000</td>\n",
       "      <td>9000.000000</td>\n",
       "      <td>9000.000000</td>\n",
       "    </tr>\n",
       "    <tr>\n",
       "      <th>mean</th>\n",
       "      <td>1.569090e+07</td>\n",
       "      <td>5.016111</td>\n",
       "      <td>76168.443138</td>\n",
       "      <td>1.531778</td>\n",
       "      <td>0.706778</td>\n",
       "      <td>0.513556</td>\n",
       "      <td>99868.712786</td>\n",
       "      <td>0.205556</td>\n",
       "      <td>6.374222</td>\n",
       "    </tr>\n",
       "    <tr>\n",
       "      <th>std</th>\n",
       "      <td>7.192227e+04</td>\n",
       "      <td>2.900250</td>\n",
       "      <td>62418.871634</td>\n",
       "      <td>0.580732</td>\n",
       "      <td>0.455265</td>\n",
       "      <td>0.499844</td>\n",
       "      <td>57593.168344</td>\n",
       "      <td>0.404129</td>\n",
       "      <td>1.786207</td>\n",
       "    </tr>\n",
       "    <tr>\n",
       "      <th>min</th>\n",
       "      <td>1.556570e+07</td>\n",
       "      <td>0.000000</td>\n",
       "      <td>0.000000</td>\n",
       "      <td>1.000000</td>\n",
       "      <td>0.000000</td>\n",
       "      <td>0.000000</td>\n",
       "      <td>11.580000</td>\n",
       "      <td>0.000000</td>\n",
       "      <td>1.000000</td>\n",
       "    </tr>\n",
       "    <tr>\n",
       "      <th>25%</th>\n",
       "      <td>1.562853e+07</td>\n",
       "      <td>2.000000</td>\n",
       "      <td>0.000000</td>\n",
       "      <td>1.000000</td>\n",
       "      <td>0.000000</td>\n",
       "      <td>0.000000</td>\n",
       "      <td>50773.897500</td>\n",
       "      <td>0.000000</td>\n",
       "      <td>5.000000</td>\n",
       "    </tr>\n",
       "    <tr>\n",
       "      <th>50%</th>\n",
       "      <td>1.569074e+07</td>\n",
       "      <td>5.000000</td>\n",
       "      <td>96889.925000</td>\n",
       "      <td>1.000000</td>\n",
       "      <td>1.000000</td>\n",
       "      <td>1.000000</td>\n",
       "      <td>99691.065000</td>\n",
       "      <td>0.000000</td>\n",
       "      <td>6.000000</td>\n",
       "    </tr>\n",
       "    <tr>\n",
       "      <th>75%</th>\n",
       "      <td>1.575316e+07</td>\n",
       "      <td>8.000000</td>\n",
       "      <td>127591.882500</td>\n",
       "      <td>2.000000</td>\n",
       "      <td>1.000000</td>\n",
       "      <td>1.000000</td>\n",
       "      <td>149373.527500</td>\n",
       "      <td>0.000000</td>\n",
       "      <td>8.000000</td>\n",
       "    </tr>\n",
       "    <tr>\n",
       "      <th>max</th>\n",
       "      <td>1.581569e+07</td>\n",
       "      <td>10.000000</td>\n",
       "      <td>250898.090000</td>\n",
       "      <td>4.000000</td>\n",
       "      <td>1.000000</td>\n",
       "      <td>1.000000</td>\n",
       "      <td>199970.740000</td>\n",
       "      <td>1.000000</td>\n",
       "      <td>10.000000</td>\n",
       "    </tr>\n",
       "  </tbody>\n",
       "</table>\n",
       "</div>"
      ],
      "text/plain": [
       "         CustomerId       Tenure        Balance  NumOfProducts    HasCrCard  \\\n",
       "count  9.000000e+03  9000.000000    9000.000000    9000.000000  9000.000000   \n",
       "mean   1.569090e+07     5.016111   76168.443138       1.531778     0.706778   \n",
       "std    7.192227e+04     2.900250   62418.871634       0.580732     0.455265   \n",
       "min    1.556570e+07     0.000000       0.000000       1.000000     0.000000   \n",
       "25%    1.562853e+07     2.000000       0.000000       1.000000     0.000000   \n",
       "50%    1.569074e+07     5.000000   96889.925000       1.000000     1.000000   \n",
       "75%    1.575316e+07     8.000000  127591.882500       2.000000     1.000000   \n",
       "max    1.581569e+07    10.000000  250898.090000       4.000000     1.000000   \n",
       "\n",
       "       IsActiveMember  EstimatedSalary       Exited  CreditLevel  \n",
       "count     9000.000000      9000.000000  9000.000000  9000.000000  \n",
       "mean         0.513556     99868.712786     0.205556     6.374222  \n",
       "std          0.499844     57593.168344     0.404129     1.786207  \n",
       "min          0.000000        11.580000     0.000000     1.000000  \n",
       "25%          0.000000     50773.897500     0.000000     5.000000  \n",
       "50%          1.000000     99691.065000     0.000000     6.000000  \n",
       "75%          1.000000    149373.527500     0.000000     8.000000  \n",
       "max          1.000000    199970.740000     1.000000    10.000000  "
      ]
     },
     "execution_count": 22,
     "metadata": {},
     "output_type": "execute_result"
    }
   ],
   "source": [
    "df.describe()"
   ]
  },
  {
   "cell_type": "markdown",
   "metadata": {},
   "source": [
    "## Data Preprocessing\n",
    "\n",
    "Target: Convert the \"Geography\" data to one-hot numeric array"
   ]
  },
  {
   "cell_type": "code",
   "execution_count": 23,
   "metadata": {},
   "outputs": [
    {
     "data": {
      "text/plain": [
       "array(['Spain', 'France', 'Germany'], dtype=object)"
      ]
     },
     "execution_count": 23,
     "metadata": {},
     "output_type": "execute_result"
    }
   ],
   "source": [
    "df[\"Geography\"].unique()"
   ]
  },
  {
   "cell_type": "code",
   "execution_count": 24,
   "metadata": {},
   "outputs": [
    {
     "data": {
      "text/plain": [
       "array(['Spain', 'France', 'Germany'], dtype=object)"
      ]
     },
     "execution_count": 24,
     "metadata": {},
     "output_type": "execute_result"
    }
   ],
   "source": [
    "df[\"Geography\"].unique()"
   ]
  },
  {
   "cell_type": "code",
   "execution_count": 33,
   "metadata": {},
   "outputs": [
    {
     "data": {
      "text/html": [
       "<div>\n",
       "<style scoped>\n",
       "    .dataframe tbody tr th:only-of-type {\n",
       "        vertical-align: middle;\n",
       "    }\n",
       "\n",
       "    .dataframe tbody tr th {\n",
       "        vertical-align: top;\n",
       "    }\n",
       "\n",
       "    .dataframe thead th {\n",
       "        text-align: right;\n",
       "    }\n",
       "</style>\n",
       "<table border=\"1\" class=\"dataframe\">\n",
       "  <thead>\n",
       "    <tr style=\"text-align: right;\">\n",
       "      <th></th>\n",
       "      <th>Geo_France</th>\n",
       "      <th>Geo_Germany</th>\n",
       "      <th>Geo_Spain</th>\n",
       "    </tr>\n",
       "  </thead>\n",
       "  <tbody>\n",
       "    <tr>\n",
       "      <th>0</th>\n",
       "      <td>0</td>\n",
       "      <td>0</td>\n",
       "      <td>1</td>\n",
       "    </tr>\n",
       "    <tr>\n",
       "      <th>1</th>\n",
       "      <td>0</td>\n",
       "      <td>0</td>\n",
       "      <td>1</td>\n",
       "    </tr>\n",
       "    <tr>\n",
       "      <th>2</th>\n",
       "      <td>1</td>\n",
       "      <td>0</td>\n",
       "      <td>0</td>\n",
       "    </tr>\n",
       "    <tr>\n",
       "      <th>3</th>\n",
       "      <td>0</td>\n",
       "      <td>1</td>\n",
       "      <td>0</td>\n",
       "    </tr>\n",
       "    <tr>\n",
       "      <th>4</th>\n",
       "      <td>1</td>\n",
       "      <td>0</td>\n",
       "      <td>0</td>\n",
       "    </tr>\n",
       "  </tbody>\n",
       "</table>\n",
       "</div>"
      ],
      "text/plain": [
       "   Geo_France  Geo_Germany  Geo_Spain\n",
       "0           0            0          1\n",
       "1           0            0          1\n",
       "2           1            0          0\n",
       "3           0            1          0\n",
       "4           1            0          0"
      ]
     },
     "execution_count": 33,
     "metadata": {},
     "output_type": "execute_result"
    }
   ],
   "source": [
    "geo_onehot = pd.get_dummies(df[\"Geography\"], prefix=\"Geo\")\n",
    "geo_onehot.head()"
   ]
  },
  {
   "cell_type": "code",
   "execution_count": 26,
   "metadata": {},
   "outputs": [
    {
     "data": {
      "text/html": [
       "<div>\n",
       "<style scoped>\n",
       "    .dataframe tbody tr th:only-of-type {\n",
       "        vertical-align: middle;\n",
       "    }\n",
       "\n",
       "    .dataframe tbody tr th {\n",
       "        vertical-align: top;\n",
       "    }\n",
       "\n",
       "    .dataframe thead th {\n",
       "        text-align: right;\n",
       "    }\n",
       "</style>\n",
       "<table border=\"1\" class=\"dataframe\">\n",
       "  <thead>\n",
       "    <tr style=\"text-align: right;\">\n",
       "      <th></th>\n",
       "      <th>CustomerId</th>\n",
       "      <th>Geography</th>\n",
       "      <th>Tenure</th>\n",
       "      <th>Balance</th>\n",
       "      <th>NumOfProducts</th>\n",
       "      <th>HasCrCard</th>\n",
       "      <th>IsActiveMember</th>\n",
       "      <th>EstimatedSalary</th>\n",
       "      <th>Exited</th>\n",
       "      <th>CreditLevel</th>\n",
       "      <th>France</th>\n",
       "      <th>Germany</th>\n",
       "      <th>Spain</th>\n",
       "    </tr>\n",
       "  </thead>\n",
       "  <tbody>\n",
       "    <tr>\n",
       "      <th>0</th>\n",
       "      <td>15762418</td>\n",
       "      <td>Spain</td>\n",
       "      <td>3</td>\n",
       "      <td>121681.82</td>\n",
       "      <td>1</td>\n",
       "      <td>1</td>\n",
       "      <td>0</td>\n",
       "      <td>128643.35</td>\n",
       "      <td>1</td>\n",
       "      <td>8</td>\n",
       "      <td>0</td>\n",
       "      <td>0</td>\n",
       "      <td>1</td>\n",
       "    </tr>\n",
       "    <tr>\n",
       "      <th>1</th>\n",
       "      <td>15749905</td>\n",
       "      <td>Spain</td>\n",
       "      <td>6</td>\n",
       "      <td>0.00</td>\n",
       "      <td>1</td>\n",
       "      <td>1</td>\n",
       "      <td>0</td>\n",
       "      <td>50213.81</td>\n",
       "      <td>1</td>\n",
       "      <td>7</td>\n",
       "      <td>0</td>\n",
       "      <td>0</td>\n",
       "      <td>1</td>\n",
       "    </tr>\n",
       "    <tr>\n",
       "      <th>2</th>\n",
       "      <td>15600911</td>\n",
       "      <td>France</td>\n",
       "      <td>2</td>\n",
       "      <td>182888.08</td>\n",
       "      <td>1</td>\n",
       "      <td>1</td>\n",
       "      <td>0</td>\n",
       "      <td>3061.00</td>\n",
       "      <td>0</td>\n",
       "      <td>7</td>\n",
       "      <td>1</td>\n",
       "      <td>0</td>\n",
       "      <td>0</td>\n",
       "    </tr>\n",
       "    <tr>\n",
       "      <th>3</th>\n",
       "      <td>15572762</td>\n",
       "      <td>Germany</td>\n",
       "      <td>2</td>\n",
       "      <td>102278.79</td>\n",
       "      <td>2</td>\n",
       "      <td>1</td>\n",
       "      <td>0</td>\n",
       "      <td>89822.48</td>\n",
       "      <td>0</td>\n",
       "      <td>2</td>\n",
       "      <td>0</td>\n",
       "      <td>1</td>\n",
       "      <td>0</td>\n",
       "    </tr>\n",
       "    <tr>\n",
       "      <th>4</th>\n",
       "      <td>15627848</td>\n",
       "      <td>France</td>\n",
       "      <td>7</td>\n",
       "      <td>109346.13</td>\n",
       "      <td>2</td>\n",
       "      <td>1</td>\n",
       "      <td>0</td>\n",
       "      <td>102665.92</td>\n",
       "      <td>0</td>\n",
       "      <td>7</td>\n",
       "      <td>1</td>\n",
       "      <td>0</td>\n",
       "      <td>0</td>\n",
       "    </tr>\n",
       "  </tbody>\n",
       "</table>\n",
       "</div>"
      ],
      "text/plain": [
       "   CustomerId Geography  Tenure    Balance  NumOfProducts  HasCrCard  \\\n",
       "0    15762418     Spain       3  121681.82              1          1   \n",
       "1    15749905     Spain       6       0.00              1          1   \n",
       "2    15600911    France       2  182888.08              1          1   \n",
       "3    15572762   Germany       2  102278.79              2          1   \n",
       "4    15627848    France       7  109346.13              2          1   \n",
       "\n",
       "   IsActiveMember  EstimatedSalary  Exited  CreditLevel  France  Germany  \\\n",
       "0               0        128643.35       1            8       0        0   \n",
       "1               0         50213.81       1            7       0        0   \n",
       "2               0          3061.00       0            7       1        0   \n",
       "3               0         89822.48       0            2       0        1   \n",
       "4               0        102665.92       0            7       1        0   \n",
       "\n",
       "   Spain  \n",
       "0      1  \n",
       "1      1  \n",
       "2      0  \n",
       "3      0  \n",
       "4      0  "
      ]
     },
     "execution_count": 26,
     "metadata": {},
     "output_type": "execute_result"
    }
   ],
   "source": [
    "train_df = df.copy()\n",
    "train_df = train_df.join(geo_onehot)\n",
    "train_df.head()"
   ]
  },
  {
   "cell_type": "code",
   "execution_count": 29,
   "metadata": {},
   "outputs": [
    {
     "name": "stdout",
     "output_type": "stream",
     "text": [
      "<class 'pandas.core.frame.DataFrame'>\n",
      "RangeIndex: 9000 entries, 0 to 8999\n",
      "Data columns (total 12 columns):\n",
      " #   Column           Non-Null Count  Dtype  \n",
      "---  ------           --------------  -----  \n",
      " 0   CustomerId       9000 non-null   int64  \n",
      " 1   Tenure           9000 non-null   int64  \n",
      " 2   Balance          9000 non-null   float64\n",
      " 3   NumOfProducts    9000 non-null   int64  \n",
      " 4   HasCrCard        9000 non-null   int64  \n",
      " 5   IsActiveMember   9000 non-null   int64  \n",
      " 6   EstimatedSalary  9000 non-null   float64\n",
      " 7   Exited           9000 non-null   int64  \n",
      " 8   CreditLevel      9000 non-null   int64  \n",
      " 9   France           9000 non-null   uint8  \n",
      " 10  Germany          9000 non-null   uint8  \n",
      " 11  Spain            9000 non-null   uint8  \n",
      "dtypes: float64(2), int64(7), uint8(3)\n",
      "memory usage: 659.3 KB\n"
     ]
    }
   ],
   "source": [
    "train_df = train_df.drop(columns=[\"Geography\"])\n",
    "train_df.info()"
   ]
  },
  {
   "cell_type": "code",
   "execution_count": 36,
   "metadata": {},
   "outputs": [
    {
     "data": {
      "text/plain": [
       "array([ 8,  7,  2,  6,  5,  4, 10,  3,  9,  1])"
      ]
     },
     "execution_count": 36,
     "metadata": {},
     "output_type": "execute_result"
    }
   ],
   "source": [
    "df[\"CreditLevel\"].unique()"
   ]
  },
  {
   "cell_type": "code",
   "execution_count": 64,
   "metadata": {},
   "outputs": [
    {
     "data": {
      "text/plain": [
       "[3, 121681.82, 1, 1, 0, 128643.35, 1]"
      ]
     },
     "execution_count": 64,
     "metadata": {},
     "output_type": "execute_result"
    }
   ],
   "source": [
    "df.loc[0][[\"Tenure\",\"Balance\",\"NumOfProducts\",\"HasCrCard\",\"IsActiveMember\",\"EstimatedSalary\",\"Exited\"]].to_list()"
   ]
  },
  {
   "cell_type": "markdown",
   "metadata": {},
   "source": [
    "## Design Customize Data Loader"
   ]
  },
  {
   "cell_type": "code",
   "execution_count": 119,
   "metadata": {},
   "outputs": [
    {
     "data": {
      "text/plain": [
       "France     0.0\n",
       "Germany    0.0\n",
       "Spain      1.0\n",
       "Name: 1, dtype: float64"
      ]
     },
     "execution_count": 119,
     "metadata": {},
     "output_type": "execute_result"
    }
   ],
   "source": [
    "train_df.loc[1][[\"France\",\"Germany\",\"Spain\"]]"
   ]
  },
  {
   "cell_type": "code",
   "execution_count": 138,
   "metadata": {},
   "outputs": [],
   "source": [
    "class BankChurnersDataset(torch.utils.data.Dataset):\n",
    "    def __init__(self, csv_file):\n",
    "        df = pd.read_csv(csv_file)\n",
    "        # create one-hot encoder for geography\n",
    "        geo_onehot = pd.get_dummies(df[\"Geography\"], prefix=\"Geo\")\n",
    "        # combine with the orignal dataset\n",
    "        df = df.join(geo_onehot)\n",
    "        # drop unusfull columns \n",
    "        df.drop(columns=[\"CustomerId\", \"Geography\"], inplace=True)\n",
    "        # set the label ranges to 0-9\n",
    "        df[\"CreditLevel\"] = df[\"CreditLevel\"]-1\n",
    "        self.df = df\n",
    "\n",
    "    def __getitem__(self, index):\n",
    "        # set the features\n",
    "        train_columns = [\"Geo_France\",\"Geo_Germany\",\"Geo_Spain\",\"Tenure\",\"Balance\",\"NumOfProducts\",\"HasCrCard\",\"IsActiveMember\",\"EstimatedSalary\",\"Exited\"]\n",
    "        # set the label\n",
    "        label_column = \"CreditLevel\"\n",
    "        # return feature, label\n",
    "        return self.df.loc[index][train_columns].to_numpy(np.float32), self.df.loc[index][label_column].astype(np.int64)\n",
    "\n",
    "    def __len__(self):\n",
    "        return len(self.df)\n"
   ]
  },
  {
   "cell_type": "code",
   "execution_count": 127,
   "metadata": {},
   "outputs": [
    {
     "name": "stdout",
     "output_type": "stream",
     "text": [
      "9000\n"
     ]
    }
   ],
   "source": [
    "train_dataset = BankChurnersDataset(\"dataset/BankChurners.csv\")\n",
    "print(len(train_dataset))"
   ]
  },
  {
   "cell_type": "code",
   "execution_count": 128,
   "metadata": {},
   "outputs": [],
   "source": [
    "class BCM(nn.Module):\n",
    "    def __init__(self):\n",
    "        super().__init__()\n",
    "        \n",
    "        self.fc1 = nn.Linear(10, 20)\n",
    "        self.fc2 = nn.Linear(20, 15)\n",
    "        self.fc3 = nn.Linear(15, 10)\n",
    "\n",
    "    def forward(self, x):\n",
    "        # x = self.pool(F.relu(self.conv1(x)))\n",
    "        # x = self.pool(F.relu(self.conv2(x)))\n",
    "        # x = torch.flatten(x, 1)\n",
    "        x = F.relu(self.fc1(x))\n",
    "        x = F.relu(self.fc2(x))\n",
    "        x = self.fc3(x)\n",
    "\n",
    "        return x    "
   ]
  },
  {
   "cell_type": "code",
   "execution_count": 129,
   "metadata": {},
   "outputs": [],
   "source": [
    "learning_rate = 0.01\n",
    "batch_size = 64"
   ]
  },
  {
   "cell_type": "code",
   "execution_count": 130,
   "metadata": {},
   "outputs": [],
   "source": [
    "model = BCM()\n",
    "criterion = nn.CrossEntropyLoss()\n",
    "optimizer = torch.optim.SGD(model.parameters(), lr =learning_rate)"
   ]
  },
  {
   "cell_type": "code",
   "execution_count": 143,
   "metadata": {},
   "outputs": [
    {
     "name": "stdout",
     "output_type": "stream",
     "text": [
      "[1,     2] loss: 0.002\n",
      "[2,     2] loss: 0.002\n",
      "[3,     2] loss: 0.002\n",
      "[4,     2] loss: 0.002\n",
      "[5,     2] loss: 0.002\n",
      "[6,     2] loss: 0.002\n",
      "[7,     2] loss: 0.002\n",
      "[8,     2] loss: 0.002\n",
      "[9,     2] loss: 0.002\n",
      "[10,     2] loss: 0.002\n",
      "[11,     2] loss: 0.002\n",
      "[12,     2] loss: 0.002\n",
      "[13,     2] loss: 0.002\n",
      "[14,     2] loss: 0.002\n",
      "[15,     2] loss: 0.002\n",
      "[16,     2] loss: 0.002\n",
      "[17,     2] loss: 0.002\n",
      "[18,     2] loss: 0.002\n",
      "[19,     2] loss: 0.002\n",
      "[20,     2] loss: 0.002\n",
      "[21,     2] loss: 0.002\n",
      "[22,     2] loss: 0.002\n",
      "[23,     2] loss: 0.002\n",
      "[24,     2] loss: 0.002\n",
      "[25,     2] loss: 0.002\n",
      "[26,     2] loss: 0.002\n",
      "[27,     2] loss: 0.002\n",
      "[28,     2] loss: 0.002\n",
      "[29,     2] loss: 0.002\n",
      "[30,     2] loss: 0.002\n",
      "[31,     2] loss: 0.002\n",
      "[32,     2] loss: 0.002\n",
      "[33,     2] loss: 0.002\n",
      "[34,     2] loss: 0.002\n",
      "[35,     2] loss: 0.002\n",
      "[36,     2] loss: 0.002\n",
      "[37,     2] loss: 0.002\n",
      "[38,     2] loss: 0.002\n",
      "[39,     2] loss: 0.002\n",
      "[40,     2] loss: 0.002\n",
      "[41,     2] loss: 0.002\n",
      "[42,     2] loss: 0.002\n",
      "[43,     2] loss: 0.002\n",
      "[44,     2] loss: 0.002\n",
      "[45,     2] loss: 0.002\n",
      "[46,     2] loss: 0.002\n",
      "[47,     2] loss: 0.002\n",
      "[48,     2] loss: 0.002\n",
      "[49,     2] loss: 0.002\n",
      "[50,     2] loss: 0.002\n",
      "[51,     2] loss: 0.002\n",
      "[52,     2] loss: 0.002\n",
      "[53,     2] loss: 0.002\n",
      "[54,     2] loss: 0.002\n",
      "[55,     2] loss: 0.002\n",
      "[56,     2] loss: 0.002\n",
      "[57,     2] loss: 0.002\n",
      "[58,     2] loss: 0.002\n",
      "[59,     2] loss: 0.002\n",
      "[60,     2] loss: 0.002\n",
      "[61,     2] loss: 0.002\n",
      "[62,     2] loss: 0.002\n",
      "[63,     2] loss: 0.002\n",
      "[64,     2] loss: 0.002\n",
      "[65,     2] loss: 0.002\n",
      "[66,     2] loss: 0.002\n",
      "[67,     2] loss: 0.002\n",
      "[68,     2] loss: 0.002\n",
      "[69,     2] loss: 0.002\n",
      "[70,     2] loss: 0.002\n",
      "[71,     2] loss: 0.002\n",
      "[72,     2] loss: 0.002\n",
      "[73,     2] loss: 0.002\n",
      "[74,     2] loss: 0.002\n",
      "[75,     2] loss: 0.002\n",
      "[76,     2] loss: 0.002\n",
      "[77,     2] loss: 0.002\n",
      "[78,     2] loss: 0.002\n",
      "[79,     2] loss: 0.002\n",
      "[80,     2] loss: 0.002\n",
      "[81,     2] loss: 0.002\n",
      "[82,     2] loss: 0.002\n",
      "[83,     2] loss: 0.002\n",
      "[84,     2] loss: 0.002\n",
      "[85,     2] loss: 0.002\n",
      "[86,     2] loss: 0.002\n",
      "[87,     2] loss: 0.002\n",
      "[88,     2] loss: 0.002\n",
      "[89,     2] loss: 0.002\n",
      "[90,     2] loss: 0.002\n",
      "[91,     2] loss: 0.002\n",
      "[92,     2] loss: 0.002\n",
      "[93,     2] loss: 0.002\n",
      "[94,     2] loss: 0.002\n",
      "[95,     2] loss: 0.002\n",
      "[96,     2] loss: 0.002\n",
      "[97,     2] loss: 0.002\n",
      "[98,     2] loss: 0.002\n",
      "[99,     2] loss: 0.002\n",
      "[100,     2] loss: 0.002\n",
      "Finished Training\n"
     ]
    }
   ],
   "source": [
    "train_dataset = BankChurnersDataset(\"dataset/BankChurners.csv\")\n",
    "train_loader = torch.utils.data.DataLoader(train_dataset, batch_size=batch_size, shuffle=True)\n",
    "\n",
    "# Train the network\n",
    "for epoch in range(100):\n",
    "    running_loss = 0.0\n",
    "    for i, data in enumerate(train_loader):\n",
    "        x, y = data\n",
    "        optimizer.zero_grad()\n",
    "        y_pred = model(x)\n",
    "        loss = criterion(y_pred, y)\n",
    "        loss.backward()\n",
    "        optimizer.step()\n",
    "\n",
    "        running_loss += loss.item()\n",
    "\n",
    "        if i % 1000 == 1:\n",
    "            print('[%d, %5d] loss: %.3f' % (epoch+1, i+1, running_loss/2000))\n",
    "            running_loss = 0.0\n",
    "print('Finished Training')            \n"
   ]
  },
  {
   "cell_type": "code",
   "execution_count": 163,
   "metadata": {},
   "outputs": [],
   "source": [
    "# save state\n",
    "PATH = './bankchurn_model.pth'\n",
    "torch.save(model.state_dict(), PATH)"
   ]
  },
  {
   "cell_type": "code",
   "execution_count": 170,
   "metadata": {},
   "outputs": [],
   "source": [
    "test_dataset = BankChurnersDataset(\"dataset/New_BankChurners.csv\")\n",
    "test_loader = torch.utils.data.DataLoader(test_dataset, batch_size=batch_size, shuffle=True)\n",
    "\n",
    "valid_dataset = BankChurnersDataset(\"dataset/BankChurners.csv\")\n",
    "valid_loader = torch.utils.data.DataLoader(valid_dataset, batch_size=batch_size, shuffle=True)"
   ]
  },
  {
   "cell_type": "code",
   "execution_count": 180,
   "metadata": {},
   "outputs": [
    {
     "name": "stdout",
     "output_type": "stream",
     "text": [
      "Accuracy of the network on the 9000 test: 21 %\n"
     ]
    }
   ],
   "source": [
    "model = BCM()\n",
    "model.load_state_dict(torch.load(PATH))\n",
    "\n",
    "correct  = 0\n",
    "total = 0\n",
    "\n",
    "with torch.no_grad():\n",
    "    for data in valid_loader:\n",
    "        inputs, labels = data\n",
    "        outputs = model(inputs)\n",
    "        _, predicted = torch.max(outputs.data, 1)\n",
    "        total += labels.size(0)\n",
    "        if (labels.size(0)!=predicted.size(0)):\n",
    "            print(labels.size(0), predicted.size(0))\n",
    "            print(labels)\n",
    "        correct += (predicted == labels).sum().item()\n",
    "\n",
    "print('Accuracy of the network on the 9000 test: %d %%' % (100 * correct / total))       "
   ]
  },
  {
   "cell_type": "code",
   "execution_count": 181,
   "metadata": {},
   "outputs": [
    {
     "name": "stdout",
     "output_type": "stream",
     "text": [
      "1899\n"
     ]
    }
   ],
   "source": [
    "print(correct)"
   ]
  }
 ],
 "metadata": {
  "interpreter": {
   "hash": "38cca0c38332a56087b24af0bc80247f4fced29cb4f7f437d91dc159adec9c4e"
  },
  "kernelspec": {
   "display_name": "Python 3.8.8 64-bit ('base': conda)",
   "name": "python3"
  },
  "language_info": {
   "codemirror_mode": {
    "name": "ipython",
    "version": 3
   },
   "file_extension": ".py",
   "mimetype": "text/x-python",
   "name": "python",
   "nbconvert_exporter": "python",
   "pygments_lexer": "ipython3",
   "version": "3.8.8"
  },
  "orig_nbformat": 4
 },
 "nbformat": 4,
 "nbformat_minor": 2
}
