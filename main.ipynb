{
 "cells": [
  {
   "cell_type": "code",
   "execution_count": 66,
   "metadata": {},
   "outputs": [],
   "source": [
    "import pandas as pd\n",
    "import numpy as np\n",
    "import matplotlib.pyplot as plt\n",
    "import seaborn as sns\n",
    "import torch\n",
    "import torch.nn as nn\n",
    "import torch.nn.functional as F\n",
    "from sklearn.model_selection import train_test_split"
   ]
  },
  {
   "cell_type": "markdown",
   "metadata": {},
   "source": [
    "## Data Wrangling"
   ]
  },
  {
   "cell_type": "code",
   "execution_count": 2,
   "metadata": {},
   "outputs": [
    {
     "data": {
      "text/html": [
       "<div>\n",
       "<style scoped>\n",
       "    .dataframe tbody tr th:only-of-type {\n",
       "        vertical-align: middle;\n",
       "    }\n",
       "\n",
       "    .dataframe tbody tr th {\n",
       "        vertical-align: top;\n",
       "    }\n",
       "\n",
       "    .dataframe thead th {\n",
       "        text-align: right;\n",
       "    }\n",
       "</style>\n",
       "<table border=\"1\" class=\"dataframe\">\n",
       "  <thead>\n",
       "    <tr style=\"text-align: right;\">\n",
       "      <th></th>\n",
       "      <th>CustomerId</th>\n",
       "      <th>Geography</th>\n",
       "      <th>Tenure</th>\n",
       "      <th>Balance</th>\n",
       "      <th>NumOfProducts</th>\n",
       "      <th>HasCrCard</th>\n",
       "      <th>IsActiveMember</th>\n",
       "      <th>EstimatedSalary</th>\n",
       "      <th>Exited</th>\n",
       "      <th>CreditLevel</th>\n",
       "    </tr>\n",
       "  </thead>\n",
       "  <tbody>\n",
       "    <tr>\n",
       "      <th>0</th>\n",
       "      <td>15762418</td>\n",
       "      <td>Spain</td>\n",
       "      <td>3</td>\n",
       "      <td>121681.82</td>\n",
       "      <td>1</td>\n",
       "      <td>1</td>\n",
       "      <td>0</td>\n",
       "      <td>128643.35</td>\n",
       "      <td>1</td>\n",
       "      <td>8</td>\n",
       "    </tr>\n",
       "    <tr>\n",
       "      <th>1</th>\n",
       "      <td>15749905</td>\n",
       "      <td>Spain</td>\n",
       "      <td>6</td>\n",
       "      <td>0.00</td>\n",
       "      <td>1</td>\n",
       "      <td>1</td>\n",
       "      <td>0</td>\n",
       "      <td>50213.81</td>\n",
       "      <td>1</td>\n",
       "      <td>7</td>\n",
       "    </tr>\n",
       "    <tr>\n",
       "      <th>2</th>\n",
       "      <td>15600911</td>\n",
       "      <td>France</td>\n",
       "      <td>2</td>\n",
       "      <td>182888.08</td>\n",
       "      <td>1</td>\n",
       "      <td>1</td>\n",
       "      <td>0</td>\n",
       "      <td>3061.00</td>\n",
       "      <td>0</td>\n",
       "      <td>7</td>\n",
       "    </tr>\n",
       "    <tr>\n",
       "      <th>3</th>\n",
       "      <td>15572762</td>\n",
       "      <td>Germany</td>\n",
       "      <td>2</td>\n",
       "      <td>102278.79</td>\n",
       "      <td>2</td>\n",
       "      <td>1</td>\n",
       "      <td>0</td>\n",
       "      <td>89822.48</td>\n",
       "      <td>0</td>\n",
       "      <td>2</td>\n",
       "    </tr>\n",
       "    <tr>\n",
       "      <th>4</th>\n",
       "      <td>15627848</td>\n",
       "      <td>France</td>\n",
       "      <td>7</td>\n",
       "      <td>109346.13</td>\n",
       "      <td>2</td>\n",
       "      <td>1</td>\n",
       "      <td>0</td>\n",
       "      <td>102665.92</td>\n",
       "      <td>0</td>\n",
       "      <td>7</td>\n",
       "    </tr>\n",
       "  </tbody>\n",
       "</table>\n",
       "</div>"
      ],
      "text/plain": [
       "   CustomerId Geography  Tenure    Balance  NumOfProducts  HasCrCard  \\\n",
       "0    15762418     Spain       3  121681.82              1          1   \n",
       "1    15749905     Spain       6       0.00              1          1   \n",
       "2    15600911    France       2  182888.08              1          1   \n",
       "3    15572762   Germany       2  102278.79              2          1   \n",
       "4    15627848    France       7  109346.13              2          1   \n",
       "\n",
       "   IsActiveMember  EstimatedSalary  Exited  CreditLevel  \n",
       "0               0        128643.35       1            8  \n",
       "1               0         50213.81       1            7  \n",
       "2               0          3061.00       0            7  \n",
       "3               0         89822.48       0            2  \n",
       "4               0        102665.92       0            7  "
      ]
     },
     "execution_count": 2,
     "metadata": {},
     "output_type": "execute_result"
    }
   ],
   "source": [
    "df = pd.read_csv(\"dataset/BankChurners.csv\")\n",
    "df.head()"
   ]
  },
  {
   "cell_type": "code",
   "execution_count": 3,
   "metadata": {},
   "outputs": [
    {
     "name": "stdout",
     "output_type": "stream",
     "text": [
      "<class 'pandas.core.frame.DataFrame'>\n",
      "RangeIndex: 9000 entries, 0 to 8999\n",
      "Data columns (total 10 columns):\n",
      " #   Column           Non-Null Count  Dtype  \n",
      "---  ------           --------------  -----  \n",
      " 0   CustomerId       9000 non-null   int64  \n",
      " 1   Geography        9000 non-null   object \n",
      " 2   Tenure           9000 non-null   int64  \n",
      " 3   Balance          9000 non-null   float64\n",
      " 4   NumOfProducts    9000 non-null   int64  \n",
      " 5   HasCrCard        9000 non-null   int64  \n",
      " 6   IsActiveMember   9000 non-null   int64  \n",
      " 7   EstimatedSalary  9000 non-null   float64\n",
      " 8   Exited           9000 non-null   int64  \n",
      " 9   CreditLevel      9000 non-null   int64  \n",
      "dtypes: float64(2), int64(7), object(1)\n",
      "memory usage: 703.2+ KB\n"
     ]
    }
   ],
   "source": [
    "df.info()"
   ]
  },
  {
   "cell_type": "code",
   "execution_count": 4,
   "metadata": {},
   "outputs": [
    {
     "data": {
      "text/html": [
       "<div>\n",
       "<style scoped>\n",
       "    .dataframe tbody tr th:only-of-type {\n",
       "        vertical-align: middle;\n",
       "    }\n",
       "\n",
       "    .dataframe tbody tr th {\n",
       "        vertical-align: top;\n",
       "    }\n",
       "\n",
       "    .dataframe thead th {\n",
       "        text-align: right;\n",
       "    }\n",
       "</style>\n",
       "<table border=\"1\" class=\"dataframe\">\n",
       "  <thead>\n",
       "    <tr style=\"text-align: right;\">\n",
       "      <th></th>\n",
       "      <th>CustomerId</th>\n",
       "      <th>Tenure</th>\n",
       "      <th>Balance</th>\n",
       "      <th>NumOfProducts</th>\n",
       "      <th>HasCrCard</th>\n",
       "      <th>IsActiveMember</th>\n",
       "      <th>EstimatedSalary</th>\n",
       "      <th>Exited</th>\n",
       "      <th>CreditLevel</th>\n",
       "    </tr>\n",
       "  </thead>\n",
       "  <tbody>\n",
       "    <tr>\n",
       "      <th>count</th>\n",
       "      <td>9.000000e+03</td>\n",
       "      <td>9000.000000</td>\n",
       "      <td>9000.000000</td>\n",
       "      <td>9000.000000</td>\n",
       "      <td>9000.000000</td>\n",
       "      <td>9000.000000</td>\n",
       "      <td>9000.000000</td>\n",
       "      <td>9000.000000</td>\n",
       "      <td>9000.000000</td>\n",
       "    </tr>\n",
       "    <tr>\n",
       "      <th>mean</th>\n",
       "      <td>1.569090e+07</td>\n",
       "      <td>5.016111</td>\n",
       "      <td>76168.443138</td>\n",
       "      <td>1.531778</td>\n",
       "      <td>0.706778</td>\n",
       "      <td>0.513556</td>\n",
       "      <td>99868.712786</td>\n",
       "      <td>0.205556</td>\n",
       "      <td>6.374222</td>\n",
       "    </tr>\n",
       "    <tr>\n",
       "      <th>std</th>\n",
       "      <td>7.192227e+04</td>\n",
       "      <td>2.900250</td>\n",
       "      <td>62418.871634</td>\n",
       "      <td>0.580732</td>\n",
       "      <td>0.455265</td>\n",
       "      <td>0.499844</td>\n",
       "      <td>57593.168344</td>\n",
       "      <td>0.404129</td>\n",
       "      <td>1.786207</td>\n",
       "    </tr>\n",
       "    <tr>\n",
       "      <th>min</th>\n",
       "      <td>1.556570e+07</td>\n",
       "      <td>0.000000</td>\n",
       "      <td>0.000000</td>\n",
       "      <td>1.000000</td>\n",
       "      <td>0.000000</td>\n",
       "      <td>0.000000</td>\n",
       "      <td>11.580000</td>\n",
       "      <td>0.000000</td>\n",
       "      <td>1.000000</td>\n",
       "    </tr>\n",
       "    <tr>\n",
       "      <th>25%</th>\n",
       "      <td>1.562853e+07</td>\n",
       "      <td>2.000000</td>\n",
       "      <td>0.000000</td>\n",
       "      <td>1.000000</td>\n",
       "      <td>0.000000</td>\n",
       "      <td>0.000000</td>\n",
       "      <td>50773.897500</td>\n",
       "      <td>0.000000</td>\n",
       "      <td>5.000000</td>\n",
       "    </tr>\n",
       "    <tr>\n",
       "      <th>50%</th>\n",
       "      <td>1.569074e+07</td>\n",
       "      <td>5.000000</td>\n",
       "      <td>96889.925000</td>\n",
       "      <td>1.000000</td>\n",
       "      <td>1.000000</td>\n",
       "      <td>1.000000</td>\n",
       "      <td>99691.065000</td>\n",
       "      <td>0.000000</td>\n",
       "      <td>6.000000</td>\n",
       "    </tr>\n",
       "    <tr>\n",
       "      <th>75%</th>\n",
       "      <td>1.575316e+07</td>\n",
       "      <td>8.000000</td>\n",
       "      <td>127591.882500</td>\n",
       "      <td>2.000000</td>\n",
       "      <td>1.000000</td>\n",
       "      <td>1.000000</td>\n",
       "      <td>149373.527500</td>\n",
       "      <td>0.000000</td>\n",
       "      <td>8.000000</td>\n",
       "    </tr>\n",
       "    <tr>\n",
       "      <th>max</th>\n",
       "      <td>1.581569e+07</td>\n",
       "      <td>10.000000</td>\n",
       "      <td>250898.090000</td>\n",
       "      <td>4.000000</td>\n",
       "      <td>1.000000</td>\n",
       "      <td>1.000000</td>\n",
       "      <td>199970.740000</td>\n",
       "      <td>1.000000</td>\n",
       "      <td>10.000000</td>\n",
       "    </tr>\n",
       "  </tbody>\n",
       "</table>\n",
       "</div>"
      ],
      "text/plain": [
       "         CustomerId       Tenure        Balance  NumOfProducts    HasCrCard  \\\n",
       "count  9.000000e+03  9000.000000    9000.000000    9000.000000  9000.000000   \n",
       "mean   1.569090e+07     5.016111   76168.443138       1.531778     0.706778   \n",
       "std    7.192227e+04     2.900250   62418.871634       0.580732     0.455265   \n",
       "min    1.556570e+07     0.000000       0.000000       1.000000     0.000000   \n",
       "25%    1.562853e+07     2.000000       0.000000       1.000000     0.000000   \n",
       "50%    1.569074e+07     5.000000   96889.925000       1.000000     1.000000   \n",
       "75%    1.575316e+07     8.000000  127591.882500       2.000000     1.000000   \n",
       "max    1.581569e+07    10.000000  250898.090000       4.000000     1.000000   \n",
       "\n",
       "       IsActiveMember  EstimatedSalary       Exited  CreditLevel  \n",
       "count     9000.000000      9000.000000  9000.000000  9000.000000  \n",
       "mean         0.513556     99868.712786     0.205556     6.374222  \n",
       "std          0.499844     57593.168344     0.404129     1.786207  \n",
       "min          0.000000        11.580000     0.000000     1.000000  \n",
       "25%          0.000000     50773.897500     0.000000     5.000000  \n",
       "50%          1.000000     99691.065000     0.000000     6.000000  \n",
       "75%          1.000000    149373.527500     0.000000     8.000000  \n",
       "max          1.000000    199970.740000     1.000000    10.000000  "
      ]
     },
     "execution_count": 4,
     "metadata": {},
     "output_type": "execute_result"
    }
   ],
   "source": [
    "df.describe()"
   ]
  },
  {
   "cell_type": "code",
   "execution_count": 5,
   "metadata": {},
   "outputs": [
    {
     "data": {
      "text/plain": [
       "array([ 8,  7,  2,  6,  5,  4, 10,  3,  9,  1])"
      ]
     },
     "execution_count": 5,
     "metadata": {},
     "output_type": "execute_result"
    }
   ],
   "source": [
    "df[\"CreditLevel\"].unique()"
   ]
  },
  {
   "cell_type": "code",
   "execution_count": 6,
   "metadata": {},
   "outputs": [
    {
     "name": "stdout",
     "output_type": "stream",
     "text": [
      "CreditLevel 1 (12) accounts for 0.133333%\n",
      "CreditLevel 2 (98) accounts for 1.088889%\n",
      "CreditLevel 3 (383) accounts for 4.255556%\n",
      "CreditLevel 4 (895) accounts for 9.944444%\n",
      "CreditLevel 5 (1425) accounts for 15.833333%\n",
      "CreditLevel 6 (1883) accounts for 20.922222%\n",
      "CreditLevel 7 (1899) accounts for 21.1%\n",
      "CreditLevel 8 (1309) accounts for 14.544444%\n",
      "CreditLevel 9 (717) accounts for 7.966667%\n",
      "CreditLevel 10 (379) accounts for 4.211111%\n"
     ]
    }
   ],
   "source": [
    "for lvl in range(1, 11):\n",
    "    num_sample = df[df[\"CreditLevel\"]==lvl].shape[0]\n",
    "    pct = round(100*num_sample/df.shape[0], 6)\n",
    "    print(\"CreditLevel {} ({}) accounts for {}%\".format(lvl, num_sample, pct))"
   ]
  },
  {
   "cell_type": "code",
   "execution_count": 7,
   "metadata": {},
   "outputs": [
    {
     "data": {
      "text/plain": [
       "array(['Spain', 'France', 'Germany'], dtype=object)"
      ]
     },
     "execution_count": 7,
     "metadata": {},
     "output_type": "execute_result"
    }
   ],
   "source": [
    "df[\"Geography\"].unique()"
   ]
  },
  {
   "cell_type": "code",
   "execution_count": 8,
   "metadata": {},
   "outputs": [
    {
     "data": {
      "text/plain": [
       "array([ 3,  6,  2,  7,  8,  5,  9, 10,  4,  1,  0])"
      ]
     },
     "execution_count": 8,
     "metadata": {},
     "output_type": "execute_result"
    }
   ],
   "source": [
    "df[\"Tenure\"].unique()"
   ]
  },
  {
   "cell_type": "code",
   "execution_count": 9,
   "metadata": {},
   "outputs": [
    {
     "data": {
      "text/plain": [
       "array([1, 2, 3, 4])"
      ]
     },
     "execution_count": 9,
     "metadata": {},
     "output_type": "execute_result"
    }
   ],
   "source": [
    "df[\"NumOfProducts\"].unique()"
   ]
  },
  {
   "cell_type": "markdown",
   "metadata": {},
   "source": [
    "## Data Preprocessing\n",
    "\n",
    "Targets: \n",
    "- Standardization of data in the columns of Tenure, Balance, NumOfProducts, EstimatedSalary\n",
    "- Convert the \"Geography\" data to one-hot numeric array\n",
    "- Update the value of CreditLevel from 1-10 to 0-9\n",
    "- Remove the CustomerId, as it's not a meaningful feature\n",
    "- Do resample in the train dataset where the imblanced samples are in credit level 1, 2, 3, 4, 9, 10"
   ]
  },
  {
   "cell_type": "code",
   "execution_count": 10,
   "metadata": {},
   "outputs": [],
   "source": [
    "df_clean = df.copy()"
   ]
  },
  {
   "cell_type": "markdown",
   "metadata": {},
   "source": [
    "Data Preprocessing: Standardize the columns: Tenure, NumOfProducts, Balance, EstimatedSalary"
   ]
  },
  {
   "cell_type": "code",
   "execution_count": 11,
   "metadata": {},
   "outputs": [],
   "source": [
    "from sklearn import preprocessing\n",
    "\n",
    "std_cols = preprocessing.StandardScaler().fit_transform(df_clean[[\"Tenure\", \"Balance\", \"NumOfProducts\", \"EstimatedSalary\"]])\n",
    "df_clean[[\"Tenure\", \"Balance\", \"NumOfProducts\", \"EstimatedSalary\"]] = std_cols"
   ]
  },
  {
   "cell_type": "code",
   "execution_count": 12,
   "metadata": {},
   "outputs": [
    {
     "data": {
      "text/plain": [
       "array([[-0.69518931,  0.72920103, -0.91575315,  0.49964669],\n",
       "       [ 0.33926158, -1.22034688, -0.91575315, -0.86221444],\n",
       "       [-1.04000627,  1.70982851, -0.91575315, -1.68098221],\n",
       "       [-1.04000627,  0.41833178,  0.80630668, -0.17444414],\n",
       "       [ 0.68407854,  0.53156248,  0.80630668,  0.04857108]])"
      ]
     },
     "execution_count": 12,
     "metadata": {},
     "output_type": "execute_result"
    }
   ],
   "source": [
    "std_cols[:5]"
   ]
  },
  {
   "cell_type": "code",
   "execution_count": 13,
   "metadata": {},
   "outputs": [
    {
     "data": {
      "text/html": [
       "<div>\n",
       "<style scoped>\n",
       "    .dataframe tbody tr th:only-of-type {\n",
       "        vertical-align: middle;\n",
       "    }\n",
       "\n",
       "    .dataframe tbody tr th {\n",
       "        vertical-align: top;\n",
       "    }\n",
       "\n",
       "    .dataframe thead th {\n",
       "        text-align: right;\n",
       "    }\n",
       "</style>\n",
       "<table border=\"1\" class=\"dataframe\">\n",
       "  <thead>\n",
       "    <tr style=\"text-align: right;\">\n",
       "      <th></th>\n",
       "      <th>CustomerId</th>\n",
       "      <th>Geography</th>\n",
       "      <th>Tenure</th>\n",
       "      <th>Balance</th>\n",
       "      <th>NumOfProducts</th>\n",
       "      <th>HasCrCard</th>\n",
       "      <th>IsActiveMember</th>\n",
       "      <th>EstimatedSalary</th>\n",
       "      <th>Exited</th>\n",
       "      <th>CreditLevel</th>\n",
       "    </tr>\n",
       "  </thead>\n",
       "  <tbody>\n",
       "    <tr>\n",
       "      <th>0</th>\n",
       "      <td>15762418</td>\n",
       "      <td>Spain</td>\n",
       "      <td>-0.695189</td>\n",
       "      <td>0.729201</td>\n",
       "      <td>-0.915753</td>\n",
       "      <td>1</td>\n",
       "      <td>0</td>\n",
       "      <td>0.499647</td>\n",
       "      <td>1</td>\n",
       "      <td>8</td>\n",
       "    </tr>\n",
       "    <tr>\n",
       "      <th>1</th>\n",
       "      <td>15749905</td>\n",
       "      <td>Spain</td>\n",
       "      <td>0.339262</td>\n",
       "      <td>-1.220347</td>\n",
       "      <td>-0.915753</td>\n",
       "      <td>1</td>\n",
       "      <td>0</td>\n",
       "      <td>-0.862214</td>\n",
       "      <td>1</td>\n",
       "      <td>7</td>\n",
       "    </tr>\n",
       "    <tr>\n",
       "      <th>2</th>\n",
       "      <td>15600911</td>\n",
       "      <td>France</td>\n",
       "      <td>-1.040006</td>\n",
       "      <td>1.709829</td>\n",
       "      <td>-0.915753</td>\n",
       "      <td>1</td>\n",
       "      <td>0</td>\n",
       "      <td>-1.680982</td>\n",
       "      <td>0</td>\n",
       "      <td>7</td>\n",
       "    </tr>\n",
       "    <tr>\n",
       "      <th>3</th>\n",
       "      <td>15572762</td>\n",
       "      <td>Germany</td>\n",
       "      <td>-1.040006</td>\n",
       "      <td>0.418332</td>\n",
       "      <td>0.806307</td>\n",
       "      <td>1</td>\n",
       "      <td>0</td>\n",
       "      <td>-0.174444</td>\n",
       "      <td>0</td>\n",
       "      <td>2</td>\n",
       "    </tr>\n",
       "    <tr>\n",
       "      <th>4</th>\n",
       "      <td>15627848</td>\n",
       "      <td>France</td>\n",
       "      <td>0.684079</td>\n",
       "      <td>0.531562</td>\n",
       "      <td>0.806307</td>\n",
       "      <td>1</td>\n",
       "      <td>0</td>\n",
       "      <td>0.048571</td>\n",
       "      <td>0</td>\n",
       "      <td>7</td>\n",
       "    </tr>\n",
       "  </tbody>\n",
       "</table>\n",
       "</div>"
      ],
      "text/plain": [
       "   CustomerId Geography    Tenure   Balance  NumOfProducts  HasCrCard  \\\n",
       "0    15762418     Spain -0.695189  0.729201      -0.915753          1   \n",
       "1    15749905     Spain  0.339262 -1.220347      -0.915753          1   \n",
       "2    15600911    France -1.040006  1.709829      -0.915753          1   \n",
       "3    15572762   Germany -1.040006  0.418332       0.806307          1   \n",
       "4    15627848    France  0.684079  0.531562       0.806307          1   \n",
       "\n",
       "   IsActiveMember  EstimatedSalary  Exited  CreditLevel  \n",
       "0               0         0.499647       1            8  \n",
       "1               0        -0.862214       1            7  \n",
       "2               0        -1.680982       0            7  \n",
       "3               0        -0.174444       0            2  \n",
       "4               0         0.048571       0            7  "
      ]
     },
     "execution_count": 13,
     "metadata": {},
     "output_type": "execute_result"
    }
   ],
   "source": [
    "df_clean.head()"
   ]
  },
  {
   "cell_type": "markdown",
   "metadata": {},
   "source": [
    "Data Preprocessing: convert the \"Geography\" data to one-hot numeric array"
   ]
  },
  {
   "cell_type": "code",
   "execution_count": 14,
   "metadata": {},
   "outputs": [
    {
     "data": {
      "text/plain": [
       "array(['Spain', 'France', 'Germany'], dtype=object)"
      ]
     },
     "execution_count": 14,
     "metadata": {},
     "output_type": "execute_result"
    }
   ],
   "source": [
    "df_clean[\"Geography\"].unique()"
   ]
  },
  {
   "cell_type": "markdown",
   "metadata": {},
   "source": [
    "Data Preprocessing: update the CreditLevel to 0-9"
   ]
  },
  {
   "cell_type": "markdown",
   "metadata": {},
   "source": [
    "Data Preprocessing: split train and test dataset. And do resample in the train dataset for levels in [1, 2, 3, 4, 9, 10]"
   ]
  },
  {
   "cell_type": "code",
   "execution_count": 222,
   "metadata": {},
   "outputs": [],
   "source": [
    "# Data preprocessing\n",
    "def preprocess(df, geo_one_hot=True):\n",
    "    df_new = df.copy()\n",
    "    # reset the label to 0-9\n",
    "    df_new[\"CreditLevel\"] = df_new[\"CreditLevel\"]-1\n",
    "    # standardize numerical data columns\n",
    "    std_cols = preprocessing.StandardScaler().fit_transform(df[[\"Tenure\", \"Balance\", \"NumOfProducts\", \"EstimatedSalary\"]])\n",
    "    df_new[[\"Tenure\", \"Balance\", \"NumOfProducts\", \"EstimatedSalary\"]] = std_cols\n",
    "    # set one-hot on geography\n",
    "    if geo_one_hot:\n",
    "        geo_onehot = pd.get_dummies(df[\"Geography\"], prefix=\"Geo\")\n",
    "        df_new = df_new.join(geo_onehot)\n",
    "\n",
    "    return df_new    "
   ]
  },
  {
   "cell_type": "code",
   "execution_count": 223,
   "metadata": {},
   "outputs": [],
   "source": [
    "# df_train, df_test = train_test_split(df_clean, test_size=0.1, random_state=42)\n",
    "# print(df_train.shape, df_test.shape)"
   ]
  },
  {
   "cell_type": "code",
   "execution_count": 224,
   "metadata": {},
   "outputs": [],
   "source": [
    "# from imblearn.over_sampling import RandomOverSampler\n",
    "# def get_test_valid_dataset(df, test_size:float, features:list, label:str, is_test_over_sampling:bool=False):\n",
    "#     df_train, df_test = train_test_split(df, test_size=test_size, random_state=42)\n",
    "#     oversample = RandomOverSampler(sampling_strategy='minority')\n",
    "#     X_train_over, y_train_over = oversample.fit_resample(df_train[features], df_train[label])\n",
    "#     df_train_over = X_train_over[label] = y_train_over\n",
    "#     return df_train_over, df_test"
   ]
  },
  {
   "cell_type": "markdown",
   "metadata": {},
   "source": [
    "## Over sampling"
   ]
  },
  {
   "cell_type": "code",
   "execution_count": 225,
   "metadata": {},
   "outputs": [],
   "source": [
    "# from imblearn.over_sampling import RandomOverSampler\n",
    "\n",
    "# oversample = RandomOverSampler(sampling_strategy='minority')\n",
    "# # fit and apply the transform\n",
    "# df_train_over = oversample.fit_resample(df_train, y)\n",
    "# # summarize class distribution"
   ]
  },
  {
   "cell_type": "markdown",
   "metadata": {},
   "source": [
    "## Design Customized Dataset and DataLoader in pytorch\n",
    "Follow the same procedures in the data preprocessing"
   ]
  },
  {
   "cell_type": "code",
   "execution_count": 226,
   "metadata": {},
   "outputs": [],
   "source": [
    "# check device\n",
    "device = 'cuda' if torch.cuda.is_available() else 'cpu'"
   ]
  },
  {
   "cell_type": "code",
   "execution_count": 240,
   "metadata": {},
   "outputs": [],
   "source": [
    "# define the customized Dataset\n",
    "class BankChurnersDataset(torch.utils.data.Dataset):\n",
    "    def __init__(self, df, feature_cols, label_col):\n",
    "        \"\"\"\n",
    "        params: \n",
    "        - df: pandas dataframe\n",
    "        - feature_cols: input features\n",
    "        - label_col: label\n",
    "        return: n/a\n",
    "        \"\"\"\n",
    "        self.feature_cols = feature_cols\n",
    "        self.label_col = label_col\n",
    "        self.df = df\n",
    "\n",
    "    def __getitem__(self, index):\n",
    "        \"\"\"\n",
    "        param: the index of the sample in dataset\n",
    "        return: input data and the corresponding label\n",
    "        \"\"\"\n",
    "        # return feature, label\n",
    "        return self.df.iloc[index][self.feature_cols].to_numpy(np.float32), self.df.iloc[index][self.label_col].astype(np.int64)\n",
    "\n",
    "    def __len__(self):\n",
    "        return len(self.df)"
   ]
  },
  {
   "cell_type": "code",
   "execution_count": 228,
   "metadata": {},
   "outputs": [
    {
     "name": "stdout",
     "output_type": "stream",
     "text": [
      "4059\n",
      "451\n"
     ]
    }
   ],
   "source": [
    "# preprocess data\n",
    "df_clean = preprocess(df)\n",
    "# split df by country\n",
    "france_df = df_clean[df_clean[\"Geography\"]==\"France\"]\n",
    "germany_df = df_clean[df_clean[\"Geography\"]==\"Germany\"]\n",
    "spain_df = df_clean[df_clean[\"Geography\"]==\"Spain\"]\n",
    "\n",
    "# set the features\n",
    "numeric_cols = [\"Tenure\",\"NumOfProducts\",\"Balance\",\"EstimatedSalary\"]\n",
    "geo_cols = [\"Geo_France\",\"Geo_Germany\",\"Geo_Spain\"]\n",
    "feature_cols = [\"Balance\",\"EstimatedSalary\"] # \"Tenure\",\"Balance\",\"NumOfProducts\",\"HasCrCard\",\"IsActiveMember\",\"Exited\"\n",
    "# set the label\n",
    "label_col = \"CreditLevel\" \n",
    "\n",
    "# define the train and validation dataset\n",
    "df_train, df_valid = train_test_split(df_clean, test_size=0.1, random_state=42)\n",
    "\n",
    "train_dataset = BankChurnersDataset(df_train, feature_cols, label_col)\n",
    "valid_dataset = BankChurnersDataset(df_valid, feature_cols, label_col)\n",
    "\n",
    "# total_size = len(dataset)\n",
    "# split_ratio = 0.9\n",
    "# # split the to train dataset and validation dataset\n",
    "# train_size = int(total_size*split_ratio)\n",
    "# train_dataset, valid_dataset = torch.utils.data.random_split(dataset, [train_size, (total_size-train_size)], generator=torch.Generator().manual_seed(42))\n",
    "\n",
    "print(len(train_dataset))\n",
    "print(len(valid_dataset))"
   ]
  },
  {
   "cell_type": "code",
   "execution_count": 245,
   "metadata": {},
   "outputs": [],
   "source": [
    "# define the nn model\n",
    "class BCM(nn.Module):\n",
    "    def __init__(self, num_features):\n",
    "        super().__init__()\n",
    "        self.num_features = num_features\n",
    "        self.fc1 = nn.Linear(num_features, 20)\n",
    "        self.fc2 = nn.Linear(20, 15)\n",
    "        self.fc3 = nn.Linear(15, 10)\n",
    "\n",
    "    def forward(self, x):\n",
    "        x = F.relu(self.fc1(x))\n",
    "        x = F.relu(self.fc2(x))\n",
    "        x = self.fc3(x)\n",
    "\n",
    "        return x    "
   ]
  },
  {
   "cell_type": "code",
   "execution_count": 246,
   "metadata": {},
   "outputs": [],
   "source": [
    "# set the hyperparameters\n",
    "learning_rate = 0.01\n",
    "batch_size = 64\n",
    "epoch = 100"
   ]
  },
  {
   "cell_type": "code",
   "execution_count": 247,
   "metadata": {},
   "outputs": [],
   "source": [
    "# Train the network\n",
    "def train(train_loader, model, criterion, optimizer, epoch):\n",
    "    losses = {}\n",
    "    for e in range(epoch):\n",
    "        running_loss = 0.0\n",
    "        for i, data in enumerate(train_loader):\n",
    "            \n",
    "            inputs, labels = data\n",
    "            inputs = inputs.to(device)\n",
    "            labels = labels.to(device)\n",
    "\n",
    "            optimizer.zero_grad()\n",
    "            y_pred = model(inputs)\n",
    "            \n",
    "            loss = criterion(y_pred, labels)\n",
    "\n",
    "            loss.backward()\n",
    "            optimizer.step()\n",
    "\n",
    "            running_loss += loss.item()\n",
    "        losses[e] = running_loss\n",
    "        print('loss in epoch {}: {}%'.format(e+1, running_loss/len(train_loader.dataset)))\n",
    "        # running_loss = 0.0\n",
    "    return losses"
   ]
  },
  {
   "cell_type": "code",
   "execution_count": 253,
   "metadata": {},
   "outputs": [],
   "source": [
    "model = BCM(len(feature_cols))\n",
    "criterion = nn.CrossEntropyLoss()\n",
    "optimizer = torch.optim.SGD(model.parameters(), lr = learning_rate)"
   ]
  },
  {
   "cell_type": "code",
   "execution_count": 254,
   "metadata": {},
   "outputs": [
    {
     "data": {
      "text/plain": [
       "4059"
      ]
     },
     "execution_count": 254,
     "metadata": {},
     "output_type": "execute_result"
    }
   ],
   "source": [
    "len(train_dataset)"
   ]
  },
  {
   "cell_type": "code",
   "execution_count": 255,
   "metadata": {},
   "outputs": [
    {
     "name": "stdout",
     "output_type": "stream",
     "text": [
      "loss in epoch 1: 0.03534920663779579%\n",
      "loss in epoch 2: 0.034817631769192045%\n",
      "loss in epoch 3: 0.03434339512977497%\n",
      "loss in epoch 4: 0.033911772742298445%\n",
      "loss in epoch 5: 0.033519484368883704%\n",
      "loss in epoch 6: 0.03315844853601599%\n",
      "loss in epoch 7: 0.0328796056139848%\n",
      "loss in epoch 8: 0.03263239750106747%\n",
      "loss in epoch 9: 0.03243428614081406%\n",
      "loss in epoch 10: 0.03226692760539895%\n",
      "loss in epoch 11: 0.03212931820488117%\n",
      "loss in epoch 12: 0.03200462141128619%\n",
      "loss in epoch 13: 0.03193929754004863%\n",
      "loss in epoch 14: 0.03186076519729528%\n",
      "loss in epoch 15: 0.031800288318794744%\n",
      "loss in epoch 16: 0.03174301399683006%\n",
      "loss in epoch 17: 0.031719474464721%\n",
      "loss in epoch 18: 0.0317114202457568%\n",
      "loss in epoch 19: 0.031653605884271%\n",
      "loss in epoch 20: 0.031612347516851436%\n",
      "loss in epoch 21: 0.03160745118397978%\n",
      "loss in epoch 22: 0.031587495419684815%\n",
      "loss in epoch 23: 0.03156931081937728%\n",
      "loss in epoch 24: 0.03153896704775032%\n",
      "loss in epoch 25: 0.03152221792229998%\n",
      "loss in epoch 26: 0.03150692165823046%\n",
      "loss in epoch 27: 0.03148571256640863%\n",
      "loss in epoch 28: 0.031480253873478754%\n",
      "loss in epoch 29: 0.03146576194171102%\n",
      "loss in epoch 30: 0.03146120376497632%\n",
      "loss in epoch 31: 0.031458167819502204%\n",
      "loss in epoch 32: 0.03141051312038011%\n",
      "loss in epoch 33: 0.03144690434784101%\n",
      "loss in epoch 34: 0.03143456902049333%\n",
      "loss in epoch 35: 0.03141608564804915%\n",
      "loss in epoch 36: 0.03143955868845298%\n",
      "loss in epoch 37: 0.031424847516146576%\n",
      "loss in epoch 38: 0.03139390549538728%\n",
      "loss in epoch 39: 0.031373333713637694%\n",
      "loss in epoch 40: 0.03138241012509335%\n",
      "loss in epoch 41: 0.03138874845276856%\n",
      "loss in epoch 42: 0.03139592594453107%\n",
      "loss in epoch 43: 0.03135691079108931%\n",
      "loss in epoch 44: 0.03135352077141099%\n",
      "loss in epoch 45: 0.03139192639797537%\n",
      "loss in epoch 46: 0.031399674502521%\n",
      "loss in epoch 47: 0.03136832892057725%\n",
      "loss in epoch 48: 0.03134187999456556%\n",
      "loss in epoch 49: 0.03136801123472234%\n",
      "loss in epoch 50: 0.03137217098986994%\n",
      "loss in epoch 51: 0.03135721866765554%\n",
      "loss in epoch 52: 0.03133828556575808%\n",
      "loss in epoch 53: 0.03135836174347683%\n",
      "loss in epoch 54: 0.03132695880362658%\n",
      "loss in epoch 55: 0.03138333360794643%\n",
      "loss in epoch 56: 0.031347670617377296%\n",
      "loss in epoch 57: 0.03133235138664988%\n",
      "loss in epoch 58: 0.03135164232199989%\n",
      "loss in epoch 59: 0.03131884893016529%\n",
      "loss in epoch 60: 0.03133520744621651%\n",
      "loss in epoch 61: 0.03135600692681357%\n",
      "loss in epoch 62: 0.031337642381860285%\n",
      "loss in epoch 63: 0.031347912853943005%\n",
      "loss in epoch 64: 0.03135675302013501%\n",
      "loss in epoch 65: 0.03133117245112361%\n",
      "loss in epoch 66: 0.03133757330567181%\n",
      "loss in epoch 67: 0.03131379964287629%\n",
      "loss in epoch 68: 0.031310723784757556%\n",
      "loss in epoch 69: 0.03133252713151036%\n",
      "loss in epoch 70: 0.0313088180807959%\n",
      "loss in epoch 71: 0.03132175462355782%\n",
      "loss in epoch 72: 0.031329251122785985%\n",
      "loss in epoch 73: 0.03131755483828909%\n",
      "loss in epoch 74: 0.03132171400605414%\n",
      "loss in epoch 75: 0.031308884836823286%\n",
      "loss in epoch 76: 0.03133129374562123%\n",
      "loss in epoch 77: 0.03131696369648567%\n",
      "loss in epoch 78: 0.031309397122518685%\n",
      "loss in epoch 79: 0.031295462969225245%\n",
      "loss in epoch 80: 0.03132897978141467%\n",
      "loss in epoch 81: 0.03130065428561605%\n",
      "loss in epoch 82: 0.03130156925142208%\n",
      "loss in epoch 83: 0.031291796703531286%\n",
      "loss in epoch 84: 0.031322245411051705%\n",
      "loss in epoch 85: 0.0313290920889592%\n",
      "loss in epoch 86: 0.03129984202364978%\n",
      "loss in epoch 87: 0.03129116118497583%\n",
      "loss in epoch 88: 0.03132092670784645%\n",
      "loss in epoch 89: 0.03131875227636585%\n",
      "loss in epoch 90: 0.031354519967875416%\n",
      "loss in epoch 91: 0.0312971765990914%\n",
      "loss in epoch 92: 0.03130605764710924%\n",
      "loss in epoch 93: 0.03131078507812718%\n",
      "loss in epoch 94: 0.03130242656563033%\n",
      "loss in epoch 95: 0.031290869872597646%\n",
      "loss in epoch 96: 0.031311725418859584%\n",
      "loss in epoch 97: 0.03129936421731036%\n",
      "loss in epoch 98: 0.03130337019570504%\n",
      "loss in epoch 99: 0.031287456533831894%\n",
      "loss in epoch 100: 0.031308597900445136%\n"
     ]
    },
    {
     "data": {
      "text/plain": [
       "{0: 143.4824297428131,\n",
       " 1: 141.3247673511505,\n",
       " 2: 139.3998408317566,\n",
       " 3: 137.64788556098938,\n",
       " 4: 136.05558705329895,\n",
       " 5: 134.5901426076889,\n",
       " 6: 133.4583191871643,\n",
       " 7: 132.45490145683289,\n",
       " 8: 131.65076744556427,\n",
       " 9: 130.97145915031433,\n",
       " 10: 130.41290259361267,\n",
       " 11: 129.90675830841064,\n",
       " 12: 129.64160871505737,\n",
       " 13: 129.32284593582153,\n",
       " 14: 129.07737028598785,\n",
       " 15: 128.84489381313324,\n",
       " 16: 128.74934685230255,\n",
       " 17: 128.71665477752686,\n",
       " 18: 128.48198628425598,\n",
       " 19: 128.31451857089996,\n",
       " 20: 128.29464435577393,\n",
       " 21: 128.21364390850067,\n",
       " 22: 128.13983261585236,\n",
       " 23: 128.01666724681854,\n",
       " 24: 127.9486825466156,\n",
       " 25: 127.88659501075745,\n",
       " 26: 127.80050730705261,\n",
       " 27: 127.77835047245026,\n",
       " 28: 127.71952772140503,\n",
       " 29: 127.70102608203888,\n",
       " 30: 127.68870317935944,\n",
       " 31: 127.49527275562286,\n",
       " 32: 127.64298474788666,\n",
       " 33: 127.59291565418243,\n",
       " 34: 127.51789164543152,\n",
       " 35: 127.61316871643066,\n",
       " 36: 127.55345606803894,\n",
       " 37: 127.42786240577698,\n",
       " 38: 127.3443615436554,\n",
       " 39: 127.3812026977539,\n",
       " 40: 127.4069299697876,\n",
       " 41: 127.43606340885162,\n",
       " 42: 127.2777009010315,\n",
       " 43: 127.26394081115723,\n",
       " 44: 127.41982924938202,\n",
       " 45: 127.45127880573273,\n",
       " 46: 127.32404708862305,\n",
       " 47: 127.21669089794159,\n",
       " 48: 127.32275760173798,\n",
       " 49: 127.33964204788208,\n",
       " 50: 127.27895057201385,\n",
       " 51: 127.20210111141205,\n",
       " 52: 127.28359031677246,\n",
       " 53: 127.15612578392029,\n",
       " 54: 127.38495111465454,\n",
       " 55: 127.24019503593445,\n",
       " 56: 127.17801427841187,\n",
       " 57: 127.25631618499756,\n",
       " 58: 127.1232078075409,\n",
       " 59: 127.18960702419281,\n",
       " 60: 127.27403211593628,\n",
       " 61: 127.19949042797089,\n",
       " 62: 127.24117827415466,\n",
       " 63: 127.27706050872803,\n",
       " 64: 127.17322897911072,\n",
       " 65: 127.19921004772186,\n",
       " 66: 127.10271275043488,\n",
       " 67: 127.09022784233093,\n",
       " 68: 127.17872762680054,\n",
       " 69: 127.08249258995056,\n",
       " 70: 127.13500201702118,\n",
       " 71: 127.1654303073883,\n",
       " 72: 127.11795508861542,\n",
       " 73: 127.13483715057373,\n",
       " 74: 127.08276355266571,\n",
       " 75: 127.17372131347656,\n",
       " 76: 127.11555564403534,\n",
       " 77: 127.08484292030334,\n",
       " 78: 127.02828419208527,\n",
       " 79: 127.16432893276215,\n",
       " 80: 127.04935574531555,\n",
       " 81: 127.05306959152222,\n",
       " 82: 127.01340281963348,\n",
       " 83: 127.13699412345886,\n",
       " 84: 127.16478478908539,\n",
       " 85: 127.04605877399445,\n",
       " 86: 127.0108232498169,\n",
       " 87: 127.13164150714874,\n",
       " 88: 127.12281548976898,\n",
       " 89: 127.26799654960632,\n",
       " 90: 127.03523981571198,\n",
       " 91: 127.0712879896164,\n",
       " 92: 127.09047663211823,\n",
       " 93: 127.0565494298935,\n",
       " 94: 127.00964081287384,\n",
       " 95: 127.09429347515106,\n",
       " 96: 127.04411935806274,\n",
       " 97: 127.06037962436676,\n",
       " 98: 126.99578607082367,\n",
       " 99: 127.0815988779068}"
      ]
     },
     "execution_count": 255,
     "metadata": {},
     "output_type": "execute_result"
    }
   ],
   "source": [
    "# define the train data loader\n",
    "train_loader = torch.utils.data.DataLoader(train_dataset, batch_size=batch_size, shuffle=True)\n",
    "# train\n",
    "train(train_loader, model, criterion, optimizer, 100)"
   ]
  },
  {
   "cell_type": "code",
   "execution_count": 256,
   "metadata": {},
   "outputs": [],
   "source": [
    "# save state\n",
    "PATH = './bankchurn_model.pth'\n",
    "torch.save(model.state_dict(), PATH)"
   ]
  },
  {
   "cell_type": "code",
   "execution_count": 257,
   "metadata": {},
   "outputs": [],
   "source": [
    "# validation dataset is same with the training dataset to check the accuracy\n",
    "valid_loader = torch.utils.data.DataLoader(valid_dataset, batch_size=batch_size, shuffle=True)\n"
   ]
  },
  {
   "cell_type": "code",
   "execution_count": 258,
   "metadata": {},
   "outputs": [],
   "source": [
    "# check the accuracy of the validation dataset\n",
    "# load the model\n",
    "model = BCM(len(feature_cols))\n",
    "model.load_state_dict(torch.load(PATH))\n",
    "\n",
    "def valid(model, valid_loader):\n",
    "    correct  = 0\n",
    "    total = 0\n",
    "    label = None\n",
    "    \n",
    "    with torch.no_grad():\n",
    "        for data in valid_loader:\n",
    "            inputs, labels = data\n",
    "            inputs = inputs.to(device)\n",
    "            labels = labels.to(device)\n",
    "            outputs = model(inputs)\n",
    "            _, predicted = torch.max(outputs.data, 1)\n",
    "            total += labels.size(0)\n",
    "            if (labels.size(0)!=predicted.size(0)):\n",
    "                print(labels.size(0), predicted.size(0))\n",
    "                print(labels)\n",
    "            correct += (predicted == labels).sum().item()\n",
    "            print(correct, total)\n",
    "            label = labels[0]\n",
    "\n",
    "    print('Accuracy of the network on the lable {} is: {}%'.format(label, (100 * correct / total)))\n",
    "\n"
   ]
  },
  {
   "cell_type": "code",
   "execution_count": 259,
   "metadata": {},
   "outputs": [
    {
     "name": "stdout",
     "output_type": "stream",
     "text": [
      "10 64\n",
      "33 128\n",
      "44 192\n",
      "59 256\n",
      "69 320\n",
      "81 384\n",
      "95 448\n",
      "95 451\n",
      "Accuracy of the network on the lable 4 is: 21.06430155210643%\n"
     ]
    }
   ],
   "source": [
    "valid(model, valid_loader)    "
   ]
  },
  {
   "cell_type": "code",
   "execution_count": 260,
   "metadata": {},
   "outputs": [
    {
     "name": "stdout",
     "output_type": "stream",
     "text": [
      "label 0 accuracy: 0.0%\n",
      "label 1 accuracy: 0.0%\n",
      "label 2 accuracy: 0.0%\n",
      "label 3 accuracy: 0.0%\n",
      "label 4 accuracy: 0.0%\n",
      "label 5 accuracy: 23.91304347826087%\n",
      "label 6 accuracy: 76.84210526315789%\n",
      "label 7 accuracy: 0.0%\n",
      "label 8 accuracy: 0.0%\n",
      "label 9 accuracy: 0.0%\n"
     ]
    }
   ],
   "source": [
    "# show the accuracy in each class\n",
    "correct_pred = {l: 0 for l in range(10)}\n",
    "total_pred = {l:0 for l in range(10)}\n",
    "\n",
    "with torch.no_grad():\n",
    "    for data in valid_loader:\n",
    "        inputs, labels = data\n",
    "        inputs = inputs.to(device)\n",
    "        labels = labels.to(device)\n",
    "        \n",
    "        outputs = model(inputs)\n",
    "        _, predictions = torch.max(outputs, 1)\n",
    "        # collect the correct predictions for each class\n",
    "        for label, prediction in zip(labels, predictions):\n",
    "            if label == prediction:\n",
    "                correct_pred[label.item()] += 1\n",
    "            total_pred[label.item()] += 1\n",
    "\n",
    "for l, count in correct_pred.items():\n",
    "    print(\"label {} accuracy: {}%\".format(l, 100*count/total_pred[l]))"
   ]
  },
  {
   "cell_type": "code",
   "execution_count": 261,
   "metadata": {},
   "outputs": [
    {
     "name": "stdout",
     "output_type": "stream",
     "text": [
      "{0: 1, 1: 5, 2: 24, 3: 41, 4: 67, 5: 92, 6: 95, 7: 70, 8: 41, 9: 15}\n",
      "{0: 0, 1: 0, 2: 0, 3: 0, 4: 0, 5: 22, 6: 73, 7: 0, 8: 0, 9: 0}\n"
     ]
    }
   ],
   "source": [
    "# check the count of each class\n",
    "print(total_pred)\n",
    "print(correct_pred)"
   ]
  },
  {
   "cell_type": "markdown",
   "metadata": {},
   "source": [
    "## Intuition and improvement\n",
    "From above results, we can find that only class 6 is correctly predicted and other classes are miss predicted. So the proposed solutions to improve the results are:\n",
    "1. Create multiple models\n",
    "    - Create logistic regression model for each class (total 10) to get the probability of the class\n",
    "    - Run test data on 10 models and set the label to the class whose model returns the largest probability\n",
    "\n",
    "    \n",
    "2. Feature reduction  "
   ]
  },
  {
   "cell_type": "markdown",
   "metadata": {},
   "source": [
    "## Create multiple logistic regression models"
   ]
  },
  {
   "cell_type": "code",
   "execution_count": 159,
   "metadata": {},
   "outputs": [],
   "source": [
    "# define the logistic model\n",
    "class SingleBCM(nn.Module):\n",
    "    def __init__(self):\n",
    "        super().__init__()\n",
    "        self.fc1 = nn.Linear(10, 20)\n",
    "        self.fc2 = nn.Linear(20, 15)\n",
    "        self.fc3 = nn.Linear(15, 10)\n",
    "\n",
    "    def forward(self, x):\n",
    "        x = F.relu(self.fc1(x))\n",
    "        x = F.relu(self.fc2(x))\n",
    "        x = self.fc3(x)\n",
    "        return x    "
   ]
  },
  {
   "cell_type": "code",
   "execution_count": 153,
   "metadata": {},
   "outputs": [],
   "source": [
    "# Train the network\n",
    "def train_single_label(train_loader, model, criterion, optimizer, epoch):\n",
    "    for e in range(epoch):\n",
    "        running_loss = 0.0\n",
    "        for i, data in enumerate(train_loader):\n",
    "            \n",
    "            inputs, labels = data\n",
    "            inputs = inputs.to(device)\n",
    "            labels = labels.to(device)\n",
    "\n",
    "            optimizer.zero_grad()\n",
    "            y_pred = model(inputs)\n",
    "            loss = criterion(y_pred, labels)\n",
    "            loss.backward()\n",
    "            optimizer.step()\n",
    "\n",
    "            running_loss += loss.item()\n",
    "\n",
    "        # print('loss in epoch {}: {}%'.format(e+1, running_loss/len(train_loader.dataset)))\n",
    "        # running_loss = 0.0\n",
    "    print('Finished Training')"
   ]
  },
  {
   "cell_type": "code",
   "execution_count": 151,
   "metadata": {},
   "outputs": [],
   "source": [
    "def valid_single_label(model, valid_loader, label):\n",
    "    correct  = 0\n",
    "    total = 0\n",
    "    total_prob = 0.0\n",
    "    \n",
    "    with torch.no_grad():\n",
    "        for data in valid_loader:\n",
    "            inputs, labels = data\n",
    "            inputs = inputs.to(device)\n",
    "            labels = labels.to(device)\n",
    "\n",
    "            outputs = model(inputs)\n",
    "            _, predicted = torch.max(outputs.data, 1)\n",
    "            total += labels.size(0)\n",
    "\n",
    "            total_prob += torch.sum(outputs).item()\n",
    "\n",
    "    print('Average probability on the lable {} is: {}'.format(label, total_prob/total))"
   ]
  },
  {
   "cell_type": "code",
   "execution_count": 178,
   "metadata": {},
   "outputs": [
    {
     "name": "stdout",
     "output_type": "stream",
     "text": [
      "Length of train dataset for label 2: 344\n",
      "Length of validation dataset for label 2: 39\n",
      "loss in epoch 1: 8.477158657340116%\n",
      "loss in epoch 2: 0.0%\n",
      "loss in epoch 3: 0.0%\n",
      "loss in epoch 4: 0.0%\n",
      "loss in epoch 5: 0.0%\n",
      "loss in epoch 6: 0.0%\n",
      "loss in epoch 7: 0.0%\n",
      "loss in epoch 8: 0.0%\n",
      "loss in epoch 9: 0.0%\n",
      "loss in epoch 10: 0.0%\n",
      "loss in epoch 11: 0.0%\n",
      "loss in epoch 12: 0.0%\n",
      "loss in epoch 13: 0.0%\n",
      "loss in epoch 14: 0.0%\n",
      "loss in epoch 15: 0.0%\n",
      "loss in epoch 16: 0.0%\n",
      "loss in epoch 17: 0.0%\n",
      "loss in epoch 18: 0.0%\n",
      "loss in epoch 19: 0.0%\n",
      "loss in epoch 20: 0.0%\n",
      "loss in epoch 21: 0.0%\n",
      "loss in epoch 22: 0.0%\n",
      "loss in epoch 23: 0.0%\n",
      "loss in epoch 24: 0.0%\n",
      "loss in epoch 25: 0.0%\n",
      "loss in epoch 26: 0.0%\n",
      "loss in epoch 27: 0.0%\n",
      "loss in epoch 28: 0.0%\n",
      "loss in epoch 29: 0.0%\n",
      "loss in epoch 30: 0.0%\n",
      "loss in epoch 31: 0.0%\n",
      "loss in epoch 32: 0.0%\n",
      "loss in epoch 33: 0.0%\n",
      "loss in epoch 34: 0.0%\n",
      "loss in epoch 35: 0.0%\n",
      "loss in epoch 36: 0.0%\n",
      "loss in epoch 37: 0.0%\n",
      "loss in epoch 38: 0.0%\n",
      "loss in epoch 39: 0.0%\n",
      "loss in epoch 40: 0.0%\n",
      "loss in epoch 41: 0.0%\n",
      "loss in epoch 42: 0.0%\n",
      "loss in epoch 43: 0.0%\n",
      "loss in epoch 44: 0.0%\n",
      "loss in epoch 45: 0.0%\n",
      "loss in epoch 46: 0.0%\n",
      "loss in epoch 47: 0.0%\n",
      "loss in epoch 48: 0.0%\n",
      "loss in epoch 49: 0.0%\n",
      "loss in epoch 50: 0.0%\n",
      "loss in epoch 51: 0.0%\n",
      "loss in epoch 52: 0.0%\n",
      "loss in epoch 53: 0.0%\n",
      "loss in epoch 54: 0.0%\n",
      "loss in epoch 55: 0.0%\n",
      "loss in epoch 56: 0.0%\n",
      "loss in epoch 57: 0.0%\n",
      "loss in epoch 58: 0.0%\n",
      "loss in epoch 59: 0.0%\n",
      "loss in epoch 60: 0.0%\n",
      "loss in epoch 61: 0.0%\n",
      "loss in epoch 62: 0.0%\n",
      "loss in epoch 63: 0.0%\n",
      "loss in epoch 64: 0.0%\n",
      "loss in epoch 65: 0.0%\n",
      "loss in epoch 66: 0.0%\n",
      "loss in epoch 67: 0.0%\n",
      "loss in epoch 68: 0.0%\n",
      "loss in epoch 69: 0.0%\n",
      "loss in epoch 70: 0.0%\n",
      "loss in epoch 71: 0.0%\n",
      "loss in epoch 72: 0.0%\n",
      "loss in epoch 73: 0.0%\n",
      "loss in epoch 74: 0.0%\n",
      "loss in epoch 75: 0.0%\n",
      "loss in epoch 76: 0.0%\n",
      "loss in epoch 77: 0.0%\n",
      "loss in epoch 78: 0.0%\n",
      "loss in epoch 79: 0.0%\n",
      "loss in epoch 80: 0.0%\n",
      "loss in epoch 81: 0.0%\n",
      "loss in epoch 82: 0.0%\n",
      "loss in epoch 83: 0.0%\n",
      "loss in epoch 84: 0.0%\n",
      "loss in epoch 85: 0.0%\n",
      "loss in epoch 86: 0.0%\n",
      "loss in epoch 87: 0.0%\n",
      "loss in epoch 88: 0.0%\n",
      "loss in epoch 89: 0.0%\n",
      "loss in epoch 90: 0.0%\n",
      "loss in epoch 91: 0.0%\n",
      "loss in epoch 92: 0.0%\n",
      "loss in epoch 93: 0.0%\n",
      "loss in epoch 94: 0.0%\n",
      "loss in epoch 95: 0.0%\n",
      "loss in epoch 96: 0.0%\n",
      "loss in epoch 97: 0.0%\n",
      "loss in epoch 98: 0.0%\n",
      "loss in epoch 99: 0.0%\n",
      "loss in epoch 100: 0.0%\n",
      "39 39\n",
      "Accuracy of the network on the lable 2 is: 100.0%\n"
     ]
    },
    {
     "data": {
      "image/png": "[encoded data removed]",
      "text/plain": [
       "<Figure size 432x288 with 1 Axes>"
      ]
     },
     "metadata": {
      "needs_background": "light"
     },
     "output_type": "display_data"
    }
   ],
   "source": [
    "model = SingleBCM()\n",
    "criterion = nn.CrossEntropyLoss()\n",
    "optimizer = torch.optim.SGD(model.parameters(), lr =learning_rate)\n",
    "\n",
    "for label in range(2,3):\n",
    "    dataset = BankChurnersDataset(\"dataset/BankChurners.csv\", label)\n",
    "    total_size = len(dataset)\n",
    "    split_ratio = 0.9\n",
    "    # split the to train dataset and validation dataset\n",
    "    train_size = int(total_size*split_ratio)\n",
    "    train_dataset, valid_dataset = torch.utils.data.random_split(dataset, [train_size, (total_size-train_size)], generator=torch.Generator().manual_seed(42))\n",
    "\n",
    "    print(\"Length of train dataset for label {}: {}\".format(label, len(train_dataset)))\n",
    "    print(\"Length of validation dataset for label {}: {}\".format(label, len(valid_dataset)))\n",
    "\n",
    "    train_dataloader = torch.utils.data.DataLoader(train_dataset, batch_size=batch_size, shuffle=True)\n",
    "    valid_dataloader = torch.utils.data.DataLoader(valid_dataset, batch_size=batch_size, shuffle=True)\n",
    "\n",
    "    losses = train(train_dataloader, model, criterion, optimizer, 100)\n",
    "\n",
    "    plt.plot(losses.keys(), losses.values())\n",
    "    # save results\n",
    "    PATH = f\"./bankchurn_model_{label}.pth\"\n",
    "    torch.save(model.state_dict(), PATH)\n",
    "\n",
    "    # load the model\n",
    "    model = SingleBCM()\n",
    "    model.load_state_dict(torch.load(PATH))\n",
    "    valid(model, valid_dataloader)\n"
   ]
  },
  {
   "cell_type": "code",
   "execution_count": null,
   "metadata": {},
   "outputs": [],
   "source": []
  }
 ],
 "metadata": {
  "interpreter": {
   "hash": "38cca0c38332a56087b24af0bc80247f4fced29cb4f7f437d91dc159adec9c4e"
  },
  "kernelspec": {
   "display_name": "Python 3.8.8 64-bit ('base': conda)",
   "name": "python3"
  },
  "language_info": {
   "codemirror_mode": {
    "name": "ipython",
    "version": 3
   },
   "file_extension": ".py",
   "mimetype": "text/x-python",
   "name": "python",
   "nbconvert_exporter": "python",
   "pygments_lexer": "ipython3",
   "version": "3.8.12"
  },
  "orig_nbformat": 4
 },
 "nbformat": 4,
 "nbformat_minor": 2
}
